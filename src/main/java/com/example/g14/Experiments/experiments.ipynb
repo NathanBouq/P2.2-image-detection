{
 "cells": [
  {
   "cell_type": "code",
   "execution_count": null,
   "metadata": {},
   "outputs": [],
   "source": [
    "import tensorflow as tf\n",
    "import pandas as pd\n",
    "import keras\n",
    "from sklearn.model_selection import train_test_split\n",
    "from keras import *\n",
    "from keras.src.layers import Dense, LeakyReLU, Dropout\n",
    "import matplotlib.pyplot as plt\n",
    "import numpy as np\n",
    "import os\n",
    "from keras.preprocessing.image import load_img"
   ]
  },
  {
   "cell_type": "code",
   "execution_count": null,
   "metadata": {},
   "outputs": [],
   "source": [
    "# Experiment how a neural network performs on images in Questionnaire_images\n",
    "\n",
    "\n",
    "actual_image_classes = [1,0,1,1,0 ,1,0,0,0,1 ,1,1,0,0,1 ,0,0,1,0,0] # 0 = AI, 1 = non-AI\n",
    "\n",
    "def test_on_questionnaire_images(network_path, threshold):\n",
    "    model = keras.models.load_model(network_path)\n",
    "    path = \"src/main/java/com/example/g14/Experiments/Questionnaire_images\"\n",
    "    images = os.listdir(path)\n",
    "    abs_errors = []\n",
    "    binary_predictions = []\n",
    "\n",
    "    for image in images:\n",
    "        img = load_img(path + \"/\" + image)\n",
    "        img = img.resize((512, 512))\n",
    "        img = np.array(img).reshape(-1, 512, 512, 3)\n",
    "        img = img/255.0\n",
    "        prediction = model.predict(img)\n",
    "        print(f\"Predicted: {prediction}\")\n",
    "        print(f\"Actual: {actual_image_classes[images.index(image)]}\")\n",
    "        abs_errors.append(abs(prediction - actual_image_classes[images.index(image)]))\n",
    "        print(f\"Error: {abs(prediction - actual_image_classes[images.index(image)])}\")\n",
    "        if prediction > threshold:\n",
    "            binary_predictions.append(1)\n",
    "        else:\n",
    "            binary_predictions.append(0)\n",
    "\n",
    "        print(\"---------------------------------------------------\")\n",
    "\n",
    "    amount_correctly_predicted  = 0\n",
    "    for i in range(len(binary_predictions)):\n",
    "        if binary_predictions[i] == actual_image_classes[i]:\n",
    "            amount_correctly_predicted += 1\n",
    "\n",
    "    print(f\"Mean error: {np.mean(abs_errors)}\")\n",
    "    print(f\"Standard deviation: {np.std(abs_errors)}\")\n",
    "    print(f\"Accuracy: {amount_correctly_predicted}/{len(binary_predictions)}\")"
   ]
  },
  {
   "cell_type": "code",
   "execution_count": null,
   "metadata": {},
   "outputs": [],
   "source": [
    "path = \"\"\n",
    "threshold = 0.5\n",
    "test_on_questionnaire_images(path, threshold)"
   ]
  }
 ],
 "metadata": {
  "language_info": {
   "name": "python"
  }
 },
 "nbformat": 4,
 "nbformat_minor": 2
}
